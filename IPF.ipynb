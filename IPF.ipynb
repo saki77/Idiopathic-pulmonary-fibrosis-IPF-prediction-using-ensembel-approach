{
  "nbformat": 4,
  "nbformat_minor": 0,
  "metadata": {
    "celltoolbar": "Raw Cell Format",
    "colab": {
      "name": "IPF.ipynb",
      "provenance": []
    },
    "kernelspec": {
      "display_name": "Python 3",
      "language": "python",
      "name": "python3"
    },
    "language_info": {
      "codemirror_mode": {
        "name": "ipython",
        "version": 3
      },
      "file_extension": ".py",
      "mimetype": "text/x-python",
      "name": "python",
      "nbconvert_exporter": "python",
      "pygments_lexer": "ipython3",
      "version": "3.6.9"
    }
  },
  "cells": [
    {
      "cell_type": "code",
      "metadata": {
        "id": "i8A78uClV6PU"
      },
      "source": [
        "import warnings\n",
        "warnings.filterwarnings('ignore')\n",
        "\n",
        "import numpy as np\n",
        "import pandas as pd\n",
        "import matplotlib.pyplot as plt\n",
        "import scipy\n",
        "import sklearn\n",
        "from sklearn import model_selection, svm\n",
        "from sklearn.ensemble import RandomForestClassifier\n",
        "from sklearn import metrics\n",
        "from sklearn.metrics import classification_report, average_precision_score\n",
        "from sklearn.metrics import confusion_matrix\n",
        "from sklearn.metrics import precision_recall_curve\n",
        "from sklearn.metrics import accuracy_score\n",
        "from sklearn.neural_network import MLPClassifier\n",
        "from sklearn.tree import DecisionTreeClassifier\n",
        "from sklearn.neighbors import KNeighborsClassifier\n",
        "from sklearn.ensemble import GradientBoostingClassifier\n",
        "from sklearn.ensemble import VotingClassifier\n",
        "from sklearn.metrics import roc_curve, roc_auc_score\n",
        "\n",
        "#SMOTE and IMBLearn\n",
        "from imblearn.over_sampling import SMOTE\n",
        "from sklearn.pipeline import make_pipeline\n",
        "from imblearn.pipeline import make_pipeline as imbalanced_make_pipeline\n",
        "from imblearn.over_sampling import SMOTE, ADASYN\n",
        "from imblearn.under_sampling import NearMiss\n",
        "from imblearn.metrics import classification_report_imbalanced"
      ],
      "execution_count": null,
      "outputs": []
    },
    {
      "cell_type": "code",
      "metadata": {
        "id": "ovddvUA6V6PW"
      },
      "source": [
        "data = pd.read_csv('IPF_preprocessed.csv')\n",
        "x = data.drop(['State'], axis=1).copy()\n",
        "y = data['State']"
      ],
      "execution_count": null,
      "outputs": []
    },
    {
      "cell_type": "code",
      "metadata": {
        "id": "1xlx041ORpD3"
      },
      "source": [
        "from sklearn.model_selection import train_test_split\n",
        "from sklearn.model_selection import cross_val_score\n",
        "from collections import  Counter\n",
        "X_train, X_test_data, y_train, y_test_data = train_test_split(x, y, test_size=0.20, random_state=9, stratify =y)"
      ],
      "execution_count": null,
      "outputs": []
    },
    {
      "cell_type": "code",
      "metadata": {
        "colab": {
          "base_uri": "https://localhost:8080/"
        },
        "id": "cqmhcRfiV6PY",
        "outputId": "c14df927-f56d-49fb-9c52-de6f20c1a4dc"
      },
      "source": [
        "print(\"Counts of label '0': {}\".format(sum(y==0)))\n",
        "print(\"Counts of label '1': {} \\n\".format(sum(y==1)))\n",
        "print(\"Counts of label '2': {} \\n\".format(sum(y==2)))\n",
        "print(\"Counts of label '3': {} \\n\".format(sum(y==3)))"
      ],
      "execution_count": null,
      "outputs": [
        {
          "name": "stdout",
          "output_type": "stream",
          "text": [
            "Counts of label '0': 1717\n",
            "Counts of label '1': 455 \n",
            "\n",
            "Counts of label '2': 153 \n",
            "\n",
            "Counts of label '3': 99 \n",
            "\n"
          ]
        }
      ]
    },
    {
      "cell_type": "markdown",
      "metadata": {
        "id": "IeO6gtSdV6PY"
      },
      "source": [
        "# SMOTE"
      ]
    },
    {
      "cell_type": "code",
      "metadata": {
        "id": "Nt5nI9t5V6PZ"
      },
      "source": [
        "sm = SMOTE(random_state=2)\n",
        "features_res, labels_res = sm.fit_sample(x, y.ravel())"
      ],
      "execution_count": null,
      "outputs": []
    },
    {
      "cell_type": "code",
      "metadata": {
        "colab": {
          "base_uri": "https://localhost:8080/"
        },
        "id": "PZ39AuN3V6PZ",
        "outputId": "abf11966-d176-4704-d786-88a7f234d8dc"
      },
      "source": [
        "print('After OverSampling, the shape of train_X: {}'.format(features_res.shape))\n",
        "print('After OverSampling, the shape of train_y: {} \\n'.format(labels_res.shape))\n",
        "\n",
        "print(\"After OverSampling, counts of label '0': {}\".format(sum(labels_res==0)))\n",
        "print(\"After OverSampling, counts of label '1': {}\".format(sum(labels_res==1)))\n",
        "print(\"After OverSampling, counts of label '2': {}\".format(sum(labels_res==2)))\n",
        "print(\"After OverSampling, counts of label '3': {}\".format(sum(labels_res==3)))"
      ],
      "execution_count": null,
      "outputs": [
        {
          "name": "stdout",
          "output_type": "stream",
          "text": [
            "After OverSampling, the shape of train_X: (6868, 26)\n",
            "After OverSampling, the shape of train_y: (6868,) \n",
            "\n",
            "After OverSampling, counts of label '0': 1717\n",
            "After OverSampling, counts of label '1': 1717\n",
            "After OverSampling, counts of label '2': 1717\n",
            "After OverSampling, counts of label '3': 1717\n"
          ]
        }
      ]
    },
    {
      "cell_type": "markdown",
      "metadata": {
        "id": "r1Np-sROV6Pd"
      },
      "source": [
        "# RF"
      ]
    },
    {
      "cell_type": "code",
      "metadata": {
        "id": "hxhrv7dGV6Pd"
      },
      "source": [
        "from sklearn.ensemble import RandomForestClassifier\n",
        "clf1 = RandomForestClassifier(n_estimators=500, random_state=42, criterion = 'gini', max_depth= 10, min_samples_split = 5, min_samples_leaf = 5)\n",
        "clf1.fit(features_res, labels_res)\n",
        "rf_prediction = clf1.predict(X_test_data)"
      ],
      "execution_count": null,
      "outputs": []
    },
    {
      "cell_type": "code",
      "metadata": {
        "colab": {
          "base_uri": "https://localhost:8080/"
        },
        "id": "jqBxOZ0MV6Pd",
        "outputId": "051ad754-a1d2-4f28-e2e8-ea634e514909"
      },
      "source": [
        "from sklearn.metrics import classification_report, accuracy_score, confusion_matrix\n",
        "print(classification_report(y_test_data, rf_prediction))\n",
        "print(accuracy_score(y_test_data, rf_prediction))\n",
        "print(confusion_matrix(y_test_data, rf_prediction))"
      ],
      "execution_count": null,
      "outputs": [
        {
          "name": "stdout",
          "output_type": "stream",
          "text": [
            "              precision    recall  f1-score   support\n",
            "\n",
            "           0       0.87      0.96      0.91       343\n",
            "           1       0.89      0.64      0.74        91\n",
            "           2       0.81      0.68      0.74        31\n",
            "           3       0.88      0.70      0.78        20\n",
            "\n",
            "    accuracy                           0.87       485\n",
            "   macro avg       0.86      0.74      0.79       485\n",
            "weighted avg       0.87      0.87      0.86       485\n",
            "\n",
            "0.8701030927835052\n",
            "[[329   7   5   2]\n",
            " [ 33  58   0   0]\n",
            " [ 10   0  21   0]\n",
            " [  6   0   0  14]]\n"
          ]
        }
      ]
    },
    {
      "cell_type": "markdown",
      "metadata": {
        "id": "zZDQtbDUV6Pe"
      },
      "source": [
        "# GBM"
      ]
    },
    {
      "cell_type": "code",
      "metadata": {
        "id": "CLlzsptp70ZG"
      },
      "source": [
        "clf3 = GradientBoostingClassifier(learning_rate=0.01, n_estimators=20,max_depth=7, min_samples_split=5, min_samples_leaf=5, subsample=1,max_features='sqrt', random_state=42)\n",
        "clf3.fit(features_res, labels_res)\n",
        "gbm_prediction = clf3.predict(X_test_data)"
      ],
      "execution_count": null,
      "outputs": []
    },
    {
      "cell_type": "code",
      "metadata": {
        "colab": {
          "base_uri": "https://localhost:8080/"
        },
        "id": "FFLHN49dV6Pf",
        "outputId": "463b3f1c-f5dd-4c5a-816f-e4d179bf1566"
      },
      "source": [
        "from sklearn.metrics import classification_report, accuracy_score, confusion_matrix\n",
        "print(classification_report(y_test_data, gbm_prediction))\n",
        "print(accuracy_score(y_test_data, gbm_prediction))\n",
        "print(confusion_matrix(y_test_data, gbm_prediction))"
      ],
      "execution_count": null,
      "outputs": [
        {
          "name": "stdout",
          "output_type": "stream",
          "text": [
            "              precision    recall  f1-score   support\n",
            "\n",
            "           0       0.84      0.97      0.90       343\n",
            "           1       0.93      0.42      0.58        91\n",
            "           2       0.82      0.74      0.78        31\n",
            "           3       0.67      0.70      0.68        20\n",
            "\n",
            "    accuracy                           0.84       485\n",
            "   macro avg       0.81      0.71      0.73       485\n",
            "weighted avg       0.85      0.84      0.82       485\n",
            "\n",
            "0.8391752577319588\n",
            "[[332   3   4   4]\n",
            " [ 50  38   1   2]\n",
            " [  7   0  23   1]\n",
            " [  6   0   0  14]]\n"
          ]
        }
      ]
    },
    {
      "cell_type": "markdown",
      "metadata": {
        "id": "CvMMuSGVV6Pf"
      },
      "source": [
        "# XGB"
      ]
    },
    {
      "cell_type": "code",
      "metadata": {
        "id": "nPUj0MluV6Pf",
        "outputId": "54d6199c-aef5-4175-e72f-84b74ad8bf53"
      },
      "source": [
        "from xgboost import XGBClassifier\n",
        "clf4 = XGBClassifier(random_state=42,silent=False, \n",
        "                      scale_pos_weight=1,\n",
        "                      learning_rate=0.001,  \n",
        "                      colsample_bytree = 0.4,\n",
        "                      subsample = 0.9,\n",
        "                      objective='binary:logistic', \n",
        "                      n_estimators=500, \n",
        "                      reg_alpha = 0.1,\n",
        "                      max_depth=15, \n",
        "                      gamma=5)\n",
        "clf4.fit(features_res, labels_res)\n",
        "xgb_prediction = clf4.predict(X_test_data)"
      ],
      "execution_count": null,
      "outputs": [
        {
          "name": "stdout",
          "output_type": "stream",
          "text": [
            "[17:54:19] WARNING: C:\\Users\\Administrator\\workspace\\xgboost-win64_release_1.2.0\\src\\learner.cc:516: \n",
            "Parameters: { scale_pos_weight, silent } might not be used.\n",
            "\n",
            "  This may not be accurate due to some parameters are only used in language bindings but\n",
            "  passed down to XGBoost core.  Or some parameters are not used but slip through this\n",
            "  verification. Please open an issue if you find above cases.\n",
            "\n",
            "\n"
          ]
        }
      ]
    },
    {
      "cell_type": "code",
      "metadata": {
        "colab": {
          "base_uri": "https://localhost:8080/"
        },
        "id": "fmBB2kSGV6Pg",
        "outputId": "171be4bc-5086-45b1-d409-8a70468c4097"
      },
      "source": [
        "from sklearn.metrics import classification_report, accuracy_score, confusion_matrix\n",
        "print(classification_report(y_test_data, xgb_prediction))\n",
        "print(accuracy_score(y_test_data, xgb_prediction))\n",
        "print(confusion_matrix(y_test_data, xgb_prediction))"
      ],
      "execution_count": null,
      "outputs": [
        {
          "name": "stdout",
          "output_type": "stream",
          "text": [
            "              precision    recall  f1-score   support\n",
            "\n",
            "           0       0.83      0.99      0.90       343\n",
            "           1       0.93      0.44      0.60        91\n",
            "           2       1.00      0.55      0.71        31\n",
            "           3       1.00      0.65      0.79        20\n",
            "\n",
            "    accuracy                           0.85       485\n",
            "   macro avg       0.94      0.66      0.75       485\n",
            "weighted avg       0.86      0.85      0.83       485\n",
            "\n",
            "0.845360824742268\n",
            "[[340   3   0   0]\n",
            " [ 51  40   0   0]\n",
            " [ 14   0  17   0]\n",
            " [  7   0   0  13]]\n"
          ]
        }
      ]
    },
    {
      "cell_type": "markdown",
      "metadata": {
        "id": "yfvjKKzCV6Pg"
      },
      "source": [
        "# KN"
      ]
    },
    {
      "cell_type": "code",
      "metadata": {
        "id": "RpuDAcz8V6Pg"
      },
      "source": [
        "from sklearn.neighbors import KNeighborsClassifier\n",
        "clf5 = KNeighborsClassifier(n_neighbors = 4, weights = 'uniform', algorithm = 'auto', leaf_size = 2, p = 5, metric = 'minkowski')\n",
        "clf5.fit(features_res, labels_res)\n",
        "knn_prediction = clf5.predict(X_test_data)"
      ],
      "execution_count": null,
      "outputs": []
    },
    {
      "cell_type": "code",
      "metadata": {
        "colab": {
          "base_uri": "https://localhost:8080/"
        },
        "id": "iBbWBknnV6Pg",
        "outputId": "27b374e0-5cc8-429f-a9db-11ae732cdf0b"
      },
      "source": [
        "from sklearn.metrics import classification_report, accuracy_score, confusion_matrix\n",
        "print(classification_report(y_test_data, knn_prediction))\n",
        "print(accuracy_score(y_test_data, knn_prediction))\n",
        "print(confusion_matrix(y_test_data, knn_prediction))"
      ],
      "execution_count": null,
      "outputs": [
        {
          "name": "stdout",
          "output_type": "stream",
          "text": [
            "              precision    recall  f1-score   support\n",
            "\n",
            "           0       0.97      0.70      0.81       343\n",
            "           1       0.67      0.92      0.78        91\n",
            "           2       0.48      1.00      0.65        31\n",
            "           3       0.40      1.00      0.57        20\n",
            "\n",
            "    accuracy                           0.77       485\n",
            "   macro avg       0.63      0.90      0.70       485\n",
            "weighted avg       0.86      0.77      0.79       485\n",
            "\n",
            "0.7711340206185567\n",
            "[[239  41  33  30]\n",
            " [  7  84   0   0]\n",
            " [  0   0  31   0]\n",
            " [  0   0   0  20]]\n"
          ]
        }
      ]
    },
    {
      "cell_type": "markdown",
      "metadata": {
        "id": "Zup-E1NWV6Ph"
      },
      "source": [
        "# MLP"
      ]
    },
    {
      "cell_type": "code",
      "metadata": {
        "id": "qZLnrkSkV6Ph"
      },
      "source": [
        "from sklearn.neural_network import MLPClassifier\n",
        "clf7 = MLPClassifier(activation='tanh', alpha=0.001, batch_size='auto', beta_1=0.9,\n",
        "              beta_2=0.999, early_stopping=False, epsilon=1e-09,\n",
        "              hidden_layer_sizes=(500,), learning_rate='constant',\n",
        "              learning_rate_init=0.001, max_fun=15000, max_iter=200,\n",
        "              momentum=0.9, n_iter_no_change=10, nesterovs_momentum=True,\n",
        "              power_t=0.5, random_state=1, shuffle=True, solver='adam',\n",
        "              tol=0.0001, validation_fraction=0.1, verbose=False,\n",
        "              warm_start=False)\n",
        "clf7.fit(features_res, labels_res)\n",
        "prediction = clf7.predict(X_test_data)"
      ],
      "execution_count": null,
      "outputs": []
    },
    {
      "cell_type": "code",
      "metadata": {
        "colab": {
          "base_uri": "https://localhost:8080/"
        },
        "id": "AK633E7-V6Ph",
        "outputId": "4e93ae3f-d9d7-4b1d-95b2-610b0ac4c3c2"
      },
      "source": [
        "from sklearn.metrics import classification_report, accuracy_score, confusion_matrix\n",
        "print(classification_report(y_test_data, prediction))\n",
        "print(accuracy_score(y_test_data, prediction))\n",
        "print(confusion_matrix(y_test_data, prediction))"
      ],
      "execution_count": null,
      "outputs": [
        {
          "name": "stdout",
          "output_type": "stream",
          "text": [
            "              precision    recall  f1-score   support\n",
            "\n",
            "           0       0.92      0.79      0.85       343\n",
            "           1       0.51      0.77      0.61        91\n",
            "           2       0.97      0.97      0.97        31\n",
            "           3       0.87      1.00      0.93        20\n",
            "\n",
            "    accuracy                           0.81       485\n",
            "   macro avg       0.82      0.88      0.84       485\n",
            "weighted avg       0.85      0.81      0.82       485\n",
            "\n",
            "0.8061855670103093\n",
            "[[271  68   1   3]\n",
            " [ 21  70   0   0]\n",
            " [  1   0  30   0]\n",
            " [  0   0   0  20]]\n"
          ]
        }
      ]
    },
    {
      "cell_type": "markdown",
      "metadata": {
        "id": "V6mAqFt1V6Pi"
      },
      "source": [
        "# With Soft voting ensemble method"
      ]
    },
    {
      "cell_type": "code",
      "metadata": {
        "id": "oJaCSawJV6Pi",
        "outputId": "e6944dc3-6836-4f4c-aaf1-a7f045347d6d"
      },
      "source": [
        "eclf_WVE = VotingClassifier(estimators=[('rf', clf1), ('gbm', clf3), ('XGB', clf4),('KNN', clf5),('MLP', clf7)], voting='soft')\n",
        "eclf_WVE.fit(features_res, labels_res)\n",
        "sft_prediction = eclf_WVE.predict(X_test_data)"
      ],
      "execution_count": null,
      "outputs": [
        {
          "name": "stdout",
          "output_type": "stream",
          "text": [
            "[17:55:16] WARNING: C:\\Users\\Administrator\\workspace\\xgboost-win64_release_1.2.0\\src\\learner.cc:516: \n",
            "Parameters: { scale_pos_weight, silent } might not be used.\n",
            "\n",
            "  This may not be accurate due to some parameters are only used in language bindings but\n",
            "  passed down to XGBoost core.  Or some parameters are not used but slip through this\n",
            "  verification. Please open an issue if you find above cases.\n",
            "\n",
            "\n"
          ]
        }
      ]
    },
    {
      "cell_type": "code",
      "metadata": {
        "colab": {
          "base_uri": "https://localhost:8080/"
        },
        "id": "NJBoQW50V6Pi",
        "outputId": "d91c28b4-cf50-472d-d9ea-155438fcccfb"
      },
      "source": [
        "print(classification_report(y_test_data, sft_prediction))\n",
        "print(accuracy_score(y_test_data, sft_prediction))\n",
        "print(confusion_matrix(y_test_data, sft_prediction))"
      ],
      "execution_count": null,
      "outputs": [
        {
          "name": "stdout",
          "output_type": "stream",
          "text": [
            "              precision    recall  f1-score   support\n",
            "\n",
            "           0       0.96      0.95      0.96       343\n",
            "           1       0.85      0.86      0.85        91\n",
            "           2       1.00      1.00      1.00        31\n",
            "           3       0.91      1.00      0.95        20\n",
            "\n",
            "    accuracy                           0.94       485\n",
            "   macro avg       0.93      0.95      0.94       485\n",
            "weighted avg       0.94      0.94      0.94       485\n",
            "\n",
            "0.9402061855670103\n",
            "[[327  14   0   2]\n",
            " [ 13  78   0   0]\n",
            " [  0   0  31   0]\n",
            " [  0   0   0  20]]\n"
          ]
        }
      ]
    },
    {
      "cell_type": "code",
      "metadata": {
        "colab": {
          "base_uri": "https://localhost:8080/",
          "height": 295
        },
        "id": "FVZ-36z0V6Pj",
        "outputId": "14c24fa0-fa00-40fe-ee87-cae56ece65d6"
      },
      "source": [
        "import scikitplot as skplt\n",
        "import matplotlib.pyplot as plt\n",
        "skplt.metrics.plot_confusion_matrix(y_test_data, sft_prediction)\n",
        "\n",
        "#plt.show()\n",
        "plt.savefig('Confusion_matrix',dpi=500)\n",
        "plt.show();\n"
      ],
      "execution_count": null,
      "outputs": [
        {
          "data": {
            "image/png": "[encoded data removed]",
            "text/plain": [
              "<Figure size 432x288 with 2 Axes>"
            ]
          },
          "metadata": {
            "needs_background": "light"
          },
          "output_type": "display_data"
        }
      ]
    },
    {
      "cell_type": "code",
      "metadata": {
        "id": "cZe_1AB-V6Pj"
      },
      "source": [
        "# predict probabilities\n",
        "pred_prob1 = clf1.predict_proba(X_test_data)\n",
        "pred_prob2 = clf3.predict_proba(X_test_data)\n",
        "pred_prob3= clf4.predict_proba(X_test_data)\n",
        "pred_prob4= clf5.predict_proba(X_test_data)\n",
        "pred_prob5= clf7.predict_proba(X_test_data)\n",
        "pred_prob6= eclf_WVE.predict_proba(X_test_data)"
      ],
      "execution_count": null,
      "outputs": []
    },
    {
      "cell_type": "code",
      "metadata": {
        "id": "4e4wB9iWV6Pj"
      },
      "source": [
        "#Binarize the output\n",
        "y_test_bin = label_binarize(y_test_data, classes=[0,1, 2, 3])\n",
        "n_classes = y_test_bin.shape[1]"
      ],
      "execution_count": null,
      "outputs": []
    },
    {
      "cell_type": "code",
      "metadata": {
        "id": "txSNiiDxV6Pj"
      },
      "source": [
        "from sklearn.metrics import roc_curve\n",
        "\n",
        "# roc curve for models\n",
        "fpr1, tpr1, thresh1 = roc_curve(y_test_bin[:, 1], pred_prob1[:, 1], pos_label=1)\n",
        "fpr2, tpr2, thresh2 = roc_curve(y_test_bin[:, 1], pred_prob2[:, 1], pos_label=1)\n",
        "fpr3, tpr3, thresh3 = roc_curve(y_test_bin[:, 1], pred_prob3[:, 1], pos_label=1)\n",
        "fpr4, tpr4, thresh4 = roc_curve(y_test_bin[:, 1], pred_prob4[:, 1], pos_label=1)\n",
        "fpr5, tpr5, thresh5 = roc_curve(y_test_bin[:, 1], pred_prob5[:, 1], pos_label=1)\n",
        "fpr6, tpr6, thresh6 = roc_curve(y_test_bin[:, 1], pred_prob6[:, 1], pos_label=1)\n",
        "\n",
        "# roc curve for tpr = fpr \n",
        "random_probs = [0 for i in range(len(y_test_data))]\n",
        "p_fpr, p_tpr, _ = roc_curve(y_test_data, random_probs, pos_label=1)"
      ],
      "execution_count": null,
      "outputs": []
    },
    {
      "cell_type": "code",
      "metadata": {
        "colab": {
          "base_uri": "https://localhost:8080/"
        },
        "id": "O5bpJFfIV6Pj",
        "outputId": "bfbf939f-c5ff-4e0b-e98d-ed8680a249b8"
      },
      "source": [
        "from sklearn.metrics import roc_auc_score\n",
        "\n",
        "# auc scores\n",
        "auc_score1 = roc_auc_score(y_test_bin[:, 1], pred_prob1[:,1])\n",
        "auc_score2 = roc_auc_score(y_test_bin[:, 1], pred_prob2[:,1])\n",
        "auc_score3 = roc_auc_score(y_test_bin[:, 1], pred_prob3[:,1])\n",
        "auc_score4 = roc_auc_score(y_test_bin[:, 1], pred_prob4[:,1])\n",
        "auc_score5 = roc_auc_score(y_test_bin[:, 1], pred_prob5[:,1])\n",
        "auc_score6 = roc_auc_score(y_test_bin[:, 1], pred_prob6[:,1])\n",
        "\n",
        "print(auc_score1, auc_score2,auc_score3,auc_score4,auc_score5,auc_score6)"
      ],
      "execution_count": null,
      "outputs": [
        {
          "name": "stdout",
          "output_type": "stream",
          "text": [
            "0.9705472192781838 0.8751045908406315 0.9722485636191219 0.9656244770457968 0.9129525297037987 0.9875606626875663\n"
          ]
        }
      ]
    },
    {
      "cell_type": "code",
      "metadata": {
        "colab": {
          "base_uri": "https://localhost:8080/",
          "height": 640
        },
        "id": "ytrHZ3nEV6Pk",
        "outputId": "49f01e22-104d-4a87-ca05-a32be65c5b92"
      },
      "source": [
        "import matplotlib.pyplot as pyplot\n",
        "title_font = {'fontname':'Arial', 'size':'18', 'color':'black', 'weight':'normal',\n",
        "              'verticalalignment':'bottom'} # Bottom vertical alignment for more space\n",
        "axis_font = {'fontname':'Arial', 'size':'20', 'color':'black'}\n",
        "\n",
        "fig = pyplot.figure(figsize=(10, 10))\n",
        "\n",
        "\n",
        "\n",
        "# plot roc curves\n",
        "plt.plot(fpr3, tpr3, linestyle='--',color='red', label='KNN (AUC= %0.4f)' % auc_score3)\n",
        "plt.plot(fpr1, tpr1, linestyle='--',color='orange', label='GBM (AUC= %0.4f)' % auc_score1)\n",
        "plt.plot(fpr5, tpr5, linestyle='--',color='green', label='MLP (AUC= %0.4f)' % auc_score5)\n",
        "plt.plot(fpr4, tpr4, linestyle='--',color='magenta', label='RF (AUC= %0.4f)' % auc_score4)\n",
        "plt.plot(fpr2, tpr2, linestyle='--',color='cyan', label='XGB (AUC= %0.4f)' % auc_score2)\n",
        "plt.plot(fpr6, tpr6, linestyle='--',color='brown', label='SVE (AUC= %0.4f)' % auc_score6)\n",
        "plt.plot(p_fpr, p_tpr, linestyle='--', color='black')\n",
        "# title\n",
        "plt.plot([0,1], [0,1], color='black', linestyle='--')\n",
        "\n",
        "# plt.xticks(np.arange(0.0, 1.1, step=0.1))\n",
        "plt.xlabel(\"Flase Positive Rate\", **axis_font)\n",
        "\n",
        "# plt.yticks(np.arange(0.0, 1.1, step=0.1))\n",
        "plt.ylabel(\"True Positive Rate\", **axis_font)\n",
        "\n",
        "# plt.title('ROC Curve Analysis', fontweight='bold', fontsize=15)\n",
        "\n",
        "pyplot.tick_params(labelsize=18, labelcolor= \"black\")\n",
        "pyplot.legend(loc=\"lower right\", prop={\"size\":15})\n",
        "\n",
        "# plt.legend(prop={'size':13}, loc='lower right')\n",
        "\n",
        "plt.show()\n",
        "\n",
        "# plt.legend(loc='best',)\n",
        "plt.savefig('ROC',dpi=300)\n",
        "plt.show();"
      ],
      "execution_count": null,
      "outputs": [
        {
          "data": {
            "image/png": "[encoded data removed]",
            "text/plain": [
              "<Figure size 720x720 with 1 Axes>"
            ]
          },
          "metadata": {
            "needs_background": "light"
          },
          "output_type": "display_data"
        },
        {
          "data": {
            "text/plain": [
              "<Figure size 432x288 with 0 Axes>"
            ]
          },
          "metadata": {},
          "output_type": "display_data"
        }
      ]
    },
    {
      "cell_type": "code",
      "metadata": {
        "id": "duTcHxnEV6Pl",
        "outputId": "735e3fb7-d876-4193-ea95-4750040d438b"
      },
      "source": [
        "from itertools import cycle\n",
        "from scipy import interp\n",
        "import matplotlib.pyplot as plt\n",
        "from sklearn.metrics import roc_curve, auc\n",
        "from sklearn.metrics import roc_auc_score\n",
        "\n",
        "# Compute ROC curve and ROC area for each class\n",
        "fpr = dict()\n",
        "tpr = dict()\n",
        "roc_auc = dict()\n",
        "print(y_test_bin.shape)\n",
        "print(pred_prob6.shape)\n",
        "for i in range(n_classes):\n",
        "    fpr[i], tpr[i], _ = roc_curve(y_test_bin[:, i], pred_prob6[:, i])\n",
        "    roc_auc[i] = auc(fpr[i], tpr[i])\n",
        "\n",
        "# Compute micro-average ROC curve and ROC area\n",
        "fpr[\"micro\"], tpr[\"micro\"], _ = roc_curve(y_test_bin.ravel(), pred_prob6.ravel())\n",
        "roc_auc[\"micro\"] = auc(fpr[\"micro\"], tpr[\"micro\"])\n",
        "\n",
        "title_font = {'fontname':'Arial', 'size':'18', 'color':'black', 'weight':'normal',\n",
        "              'verticalalignment':'bottom'} # Bottom vertical alignment for more space\n",
        "axis_font = {'fontname':'Arial', 'size':'20', 'color':'black'}\n",
        "\n",
        "fig = pyplot.figure(figsize=(10, 10))\n",
        "\n",
        "\n",
        "lw = 2\n",
        "\n",
        "# First aggregate all false positive rates\n",
        "all_fpr = np.unique(np.concatenate([fpr[i] for i in range(n_classes)]))\n",
        "\n",
        "# Then interpolate all ROC curves at this points\n",
        "mean_tpr = np.zeros_like(all_fpr)\n",
        "for i in range(n_classes):\n",
        "    mean_tpr += interp(all_fpr, fpr[i], tpr[i])\n",
        "\n",
        "# Finally average it and compute AUC\n",
        "mean_tpr /= n_classes\n",
        "\n",
        "fpr[\"macro\"] = all_fpr\n",
        "tpr[\"macro\"] = mean_tpr\n",
        "roc_auc[\"macro\"] = auc(fpr[\"macro\"], tpr[\"macro\"])\n",
        "\n",
        "# Plot all ROC curves\n",
        "plt.figure(figsize=(7,5))\n",
        "\n",
        "colors = cycle(['brown','cornflowerblue', 'blue', 'darkorange'])\n",
        "for i, color in zip(range(n_classes), colors):\n",
        "    plt.plot(fpr[i], tpr[i], color=color, lw=lw,\n",
        "             label='ROC curve of class {0} (AUC = {1:0.4f})'\n",
        "             ''.format(i, roc_auc[i]))\n",
        "    \n",
        "\n",
        "plt.plot([0,1], [0,1], color='black', linestyle='--')\n",
        "\n",
        "# plt.xticks(np.arange(0.0, 1.1, step=0.1))\n",
        "plt.xlabel(\"Flase Positive Rate\", **axis_font)\n",
        "\n",
        "# plt.yticks(np.arange(0.0, 1.1, step=0.1))\n",
        "plt.ylabel(\"True Positive Rate\", **axis_font)\n",
        "\n",
        "# plt.title('ROC Curve Analysis', fontweight='bold', fontsize=15)\n",
        "\n",
        "pyplot.tick_params(labelsize=18, labelcolor= \"black\")\n",
        "pyplot.legend(loc=\"lower right\", prop={\"size\":11})\n",
        "\n",
        "# plt.legend(prop={'size':13}, loc='lower right')\n",
        "plt.savefig('ROC_classes',dpi=500)\n",
        "plt.show();"
      ],
      "execution_count": null,
      "outputs": [
        {
          "name": "stdout",
          "output_type": "stream",
          "text": [
            "(485, 4)\n",
            "(485, 4)\n"
          ]
        },
        {
          "data": {
            "text/plain": [
              "<Figure size 720x720 with 0 Axes>"
            ]
          },
          "metadata": {},
          "output_type": "display_data"
        },
        {
          "data": {
            "image/png": "[encoded data removed]",
            "text/plain": [
              "<Figure size 504x360 with 1 Axes>"
            ]
          },
          "metadata": {
            "needs_background": "light"
          },
          "output_type": "display_data"
        }
      ]
    }
  ]
}